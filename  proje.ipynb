{
 "cells": [
  {
   "cell_type": "code",
   "execution_count": 5,
   "metadata": {},
   "outputs": [],
   "source": [
    "import sys"
   ]
  },
  {
   "cell_type": "code",
   "execution_count": 19,
   "metadata": {},
   "outputs": [],
   "source": [
    "defstudentname = [ [\"gal\", \"gadot\"], [\"kübra\", \"gündü\"], [\"grant\", \"gust\"], [\"jordan\",\"ramsey\"] ]"
   ]
  },
  {
   "cell_type": "code",
   "execution_count": 25,
   "metadata": {},
   "outputs": [
    {
     "ename": "IndentationError",
     "evalue": "unexpected indent (<ipython-input-25-35cc064fb86b>, line 6)",
     "output_type": "error",
     "traceback": [
      "\u001b[1;36m  File \u001b[1;32m\"<ipython-input-25-35cc064fb86b>\"\u001b[1;36m, line \u001b[1;32m6\u001b[0m\n\u001b[1;33m    while(false):\u001b[0m\n\u001b[1;37m    ^\u001b[0m\n\u001b[1;31mIndentationError\u001b[0m\u001b[1;31m:\u001b[0m unexpected indent\n"
     ]
    }
   ],
   "source": [
    "student_info = False\n",
    "student_trial_number = 0\n",
    "student_first_name = ('')\n",
    "student_last_name = ('')\n",
    "  \n",
    "    while(false):\n",
    "    login_first_name = input(\"Enter Student Firstname : \")\n",
    "    login_last_name = input(\"Enter Student Lastname  : \")\n",
    "    for user in studentname:\n",
    "        if user[0] ==(login_first_name and login_last_name:)\n",
    "            login = True\n",
    "            print('welcame',login_first_name and login_last_name)\n",
    "            break\n",
    "    elif\n",
    "    user[0] ==(login_first_name and login_last_name:)\n",
    "            login = false\n",
    "            print('your name is not correct,Please Try Again',login_first_name and login_last_name)\n",
    "    elif login try == 3:\n",
    "            print(\"Please Try Again Later...\")\n",
    "            sys.exit()\n",
    "    else:\n",
    "            print(\"Information is Wrong! Try Again\")\n"
   ]
  },
  {
   "cell_type": "code",
   "execution_count": 13,
   "metadata": {},
   "outputs": [
    {
     "ename": "SyntaxError",
     "evalue": "invalid syntax (<ipython-input-13-febe313e2f27>, line 1)",
     "output_type": "error",
     "traceback": [
      "\u001b[1;36m  File \u001b[1;32m\"<ipython-input-13-febe313e2f27>\"\u001b[1;36m, line \u001b[1;32m1\u001b[0m\n\u001b[1;33m    while not (selectedlesson =>3 selectedlessonscount <= 5 ):\u001b[0m\n\u001b[1;37m                              ^\u001b[0m\n\u001b[1;31mSyntaxError\u001b[0m\u001b[1;31m:\u001b[0m invalid syntax\n"
     ]
    }
   ],
   "source": [
    "while not (selectedlesson =<3 selectedlessonscount >= 5 ):\n",
    "            print(\"You failed in Class\")"
   ]
  },
  {
   "cell_type": "code",
   "execution_count": 4,
   "metadata": {},
   "outputs": [
    {
     "name": "stdout",
     "output_type": "stream",
     "text": [
      "Your course is:\n"
     ]
    },
    {
     "ename": "NameError",
     "evalue": "name 'courselist' is not defined",
     "output_type": "error",
     "traceback": [
      "\u001b[1;31m---------------------------------------------------------------------------\u001b[0m",
      "\u001b[1;31mNameError\u001b[0m                                 Traceback (most recent call last)",
      "\u001b[1;32m<ipython-input-4-51d2a3c72864>\u001b[0m in \u001b[0;36m<module>\u001b[1;34m\u001b[0m\n\u001b[0;32m      1\u001b[0m \u001b[1;32mimport\u001b[0m \u001b[0mrandom\u001b[0m\u001b[1;33m\u001b[0m\u001b[1;33m\u001b[0m\u001b[0m\n\u001b[0;32m      2\u001b[0m \u001b[0mprint\u001b[0m\u001b[1;33m(\u001b[0m\u001b[1;34m\"Your course is:\"\u001b[0m\u001b[1;33m)\u001b[0m\u001b[1;33m\u001b[0m\u001b[1;33m\u001b[0m\u001b[0m\n\u001b[1;32m----> 3\u001b[1;33m \u001b[0mexams\u001b[0m \u001b[1;33m=\u001b[0m \u001b[0mprint\u001b[0m\u001b[1;33m(\u001b[0m\u001b[0mrandom\u001b[0m\u001b[1;33m.\u001b[0m\u001b[0mchoice\u001b[0m\u001b[1;33m(\u001b[0m\u001b[0mcourselist\u001b[0m\u001b[1;33m)\u001b[0m\u001b[1;33m)\u001b[0m\u001b[1;33m\u001b[0m\u001b[1;33m\u001b[0m\u001b[0m\n\u001b[0m\u001b[0;32m      4\u001b[0m \u001b[1;33m\u001b[0m\u001b[0m\n\u001b[0;32m      5\u001b[0m grades = {\"midterm\":random.randint(0, 100), \n",
      "\u001b[1;31mNameError\u001b[0m: name 'courselist' is not defined"
     ]
    }
   ],
   "source": [
    "import random\n",
    "print(\"Your course is:\")\n",
    "exams = print(random.choice(courselist))\n",
    "\n",
    "grades = {\"midterm\":random.randint(0, 100), \n",
    "          \"final\":random.randint(0, 100),\n",
    "          \"project\":random.randint(0, 100)}\n",
    "\n",
    "score= grades[\"midterm\"]*30/100 + grades[\"final\"]*50/100 + grades[\"project\"]*20/100\n",
    "print(\"Your score is:\")\n",
    "print(score)\n",
    "if 0 < score <= 30:\n",
    "    print(\"Your grade is:\")\n",
    "    print(\"FF\")\n",
    "    print(\"You need take the course again.\")\n",
    "elif score <= 50:\n",
    "    print(\"Your grade is:\")\n",
    "    print(\"DD\")\n",
    "elif score <= 70:\n",
    "    print(\"Your grade is:\")\n",
    "    print(\"CC\")\n",
    "elif score <= 90:\n",
    "    print(\"Your grade is:\")\n",
    "    print(\"BB\")\n",
    "else:\n",
    "    print(\"Your grade is:\")\n",
    "    print(\"AA\")"
   ]
  }
 ],
 "metadata": {
  "kernelspec": {
   "display_name": "Python 3",
   "language": "python",
   "name": "python3"
  },
  "language_info": {
   "codemirror_mode": {
    "name": "ipython",
    "version": 3
   },
   "file_extension": ".py",
   "mimetype": "text/x-python",
   "name": "python",
   "nbconvert_exporter": "python",
   "pygments_lexer": "ipython3",
   "version": "3.8.5"
  }
 },
 "nbformat": 4,
 "nbformat_minor": 4
}
