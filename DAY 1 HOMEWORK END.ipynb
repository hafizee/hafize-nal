{
 "cells": [
  {
   "cell_type": "code",
   "execution_count": 19,
   "metadata": {},
   "outputs": [
    {
     "name": "stdout",
     "output_type": "stream",
     "text": [
      "please enter float : 10.2\n"
     ]
    }
   ],
   "source": [
    "a= input(\"please enter float : \") "
   ]
  },
  {
   "cell_type": "code",
   "execution_count": 20,
   "metadata": {},
   "outputs": [
    {
     "name": "stdout",
     "output_type": "stream",
     "text": [
      "please enter integer : 'HELLO'\n"
     ]
    }
   ],
   "source": [
    "b= input(\"please enter integer : \") "
   ]
  },
  {
   "cell_type": "code",
   "execution_count": 42,
   "metadata": {},
   "outputs": [
    {
     "name": "stdout",
     "output_type": "stream",
     "text": [
      "please enter integer : 'teacher'\n"
     ]
    }
   ],
   "source": [
    "c= input(\"please enter integer : \") "
   ]
  },
  {
   "cell_type": "code",
   "execution_count": 22,
   "metadata": {},
   "outputs": [
    {
     "name": "stdout",
     "output_type": "stream",
     "text": [
      "please enter string  : 9\n"
     ]
    }
   ],
   "source": [
    "d= input(\"please enter string  : \") "
   ]
  },
  {
   "cell_type": "code",
   "execution_count": 45,
   "metadata": {},
   "outputs": [
    {
     "name": "stdout",
     "output_type": "stream",
     "text": [
      "please enter string  : 2020\n"
     ]
    }
   ],
   "source": [
    "e= input(\"please enter string  : \") "
   ]
  },
  {
   "cell_type": "code",
   "execution_count": 47,
   "metadata": {},
   "outputs": [
    {
     "name": "stdout",
     "output_type": "stream",
     "text": [
      "1. value :10.2 - tipi :<class 'str'>\n"
     ]
    }
   ],
   "source": [
    "print(f\"1. value :{a} - tipi :{type(a)}\")"
   ]
  },
  {
   "cell_type": "code",
   "execution_count": 48,
   "metadata": {},
   "outputs": [
    {
     "name": "stdout",
     "output_type": "stream",
     "text": [
      "2. value :'HELLO' - tipi :<class 'str'>\n"
     ]
    }
   ],
   "source": [
    "print(f\"2. value :{b} - tipi :{type(b)}\")"
   ]
  },
  {
   "cell_type": "code",
   "execution_count": 49,
   "metadata": {},
   "outputs": [
    {
     "name": "stdout",
     "output_type": "stream",
     "text": [
      "3. value :'teacher' - tipi :<class 'str'>\n"
     ]
    }
   ],
   "source": [
    "print(f\"3. value :{c} - tipi :{type(c)}\")"
   ]
  },
  {
   "cell_type": "code",
   "execution_count": 50,
   "metadata": {},
   "outputs": [
    {
     "name": "stdout",
     "output_type": "stream",
     "text": [
      "4. value :a=true - tipi :<class 'str'>\n"
     ]
    }
   ],
   "source": [
    "print(f\"4. value :{d} - tipi :{type(d)}\")"
   ]
  },
  {
   "cell_type": "code",
   "execution_count": 52,
   "metadata": {},
   "outputs": [
    {
     "name": "stdout",
     "output_type": "stream",
     "text": [
      "5. value :2020 - tipi :<class 'str'>\n"
     ]
    }
   ],
   "source": [
    "print(\"5. value :{} - tipi :{}\".format(e, type(e)) )"
   ]
  },
  {
   "cell_type": "code",
   "execution_count": 53,
   "metadata": {},
   "outputs": [
    {
     "name": "stdout",
     "output_type": "stream",
     "text": [
      "1. value :10.2 - tipi :<class 'str'>\n"
     ]
    }
   ],
   "source": [
    "print(\"1. value :{} - tipi :{}\".format(a, type(a)) )"
   ]
  },
  {
   "cell_type": "code",
   "execution_count": 54,
   "metadata": {},
   "outputs": [
    {
     "name": "stdout",
     "output_type": "stream",
     "text": [
      "2. value :'HELLO' - tipi :<class 'str'>\n"
     ]
    }
   ],
   "source": [
    "print(\"2. value :{} - tipi :{}\".format(b, type(b)) )"
   ]
  },
  {
   "cell_type": "code",
   "execution_count": 55,
   "metadata": {},
   "outputs": [
    {
     "name": "stdout",
     "output_type": "stream",
     "text": [
      "3. value :'teacher' - tipi :<class 'str'>\n"
     ]
    }
   ],
   "source": [
    "print(\"3. value :{} - tipi :{}\".format(c, type(c)) )"
   ]
  },
  {
   "cell_type": "code",
   "execution_count": 56,
   "metadata": {},
   "outputs": [
    {
     "name": "stdout",
     "output_type": "stream",
     "text": [
      "4. value :a=true - tipi :<class 'str'>\n"
     ]
    }
   ],
   "source": [
    "print(\"4. value :{} - tipi :{}\".format(d, type(d)) )"
   ]
  },
  {
   "cell_type": "code",
   "execution_count": 57,
   "metadata": {},
   "outputs": [
    {
     "name": "stdout",
     "output_type": "stream",
     "text": [
      "5. value :a=true - tipi :<class 'str'>\n"
     ]
    }
   ],
   "source": [
    "print(f\"5. value :{d} - tipi :{type(e)}\")"
   ]
  },
  {
   "cell_type": "code",
   "execution_count": null,
   "metadata": {},
   "outputs": [],
   "source": []
  }
 ],
 "metadata": {
  "kernelspec": {
   "display_name": "Python 3",
   "language": "python",
   "name": "python3"
  },
  "language_info": {
   "codemirror_mode": {
    "name": "ipython",
    "version": 3
   },
   "file_extension": ".py",
   "mimetype": "text/x-python",
   "name": "python",
   "nbconvert_exporter": "python",
   "pygments_lexer": "ipython3",
   "version": "3.8.5"
  }
 },
 "nbformat": 4,
 "nbformat_minor": 4
}
